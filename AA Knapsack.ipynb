{
 "cells": [
  {
   "cell_type": "markdown",
   "id": "f1f4e8ed-944e-422b-8a87-1906821d3b0d",
   "metadata": {},
   "source": [
    "#### Fractional Knapsack Problem"
   ]
  },
  {
   "cell_type": "code",
   "execution_count": 11,
   "id": "e52bf8ff-d46f-481d-bf42-349c4dcb34b4",
   "metadata": {},
   "outputs": [
    {
     "name": "stdout",
     "output_type": "stream",
     "text": [
      "Your Inputs:\n",
      "Profit : [25, 24, 15]\n",
      "Weight : [18, 15, 10]\n",
      "\n",
      "Calculated (Pi/wi) for each item:\n",
      " [1.3888888888888888, 1.6, 1.5]\n",
      "\n",
      "\n",
      "Sort item by (pi/wi) ratio in descending order:\n",
      "Profit : [24, 15, 25]\n",
      "Weight : [15, 10, 18]\n",
      "Piwi : [1.6, 1.5, 1.3888888888888888]\n",
      "\n",
      "Knap Sack Items :\n",
      "(24, 15, 1)\n",
      "(15, 10, 0.5)\n",
      "\n",
      "Total Profit : 31.5\n"
     ]
    }
   ],
   "source": [
    "def knapsack(profit,weight,capacity): \n",
    "    print(\"Your Inputs:\")\n",
    "    print(\"Profit :\",profit)\n",
    "    print(\"Weight :\",weight)\n",
    "    \n",
    "    piwi=[]\n",
    "\n",
    "    for i in range(len(profit)): \n",
    "        piwi.append(profit[i]/weight[i])\n",
    "    \n",
    "    print(\"\\nCalculated (Pi/wi) for each item:\\n\",piwi)\n",
    "    \n",
    "    for i in range(len(piwi)-1): \n",
    "        for j in range(i+1,len(piwi)): \n",
    "            if piwi[i]<piwi[j]: \n",
    "                piwi[i],piwi[j]=piwi[j],piwi[i]\n",
    "                profit[i],profit[j]=profit[j],profit[i]\n",
    "                weight[i],weight[j]=weight[j],weight[i]\n",
    "    \n",
    "    print(\"\\n\\nSort item by (pi/wi) ratio in descending order:\")\n",
    "    print(\"Profit :\",profit)\n",
    "    print(\"Weight :\",weight)\n",
    "    print(\"Piwi :\",piwi)\n",
    "\n",
    "    total_profit=0\n",
    "    knapsack_items=[]\n",
    "\n",
    "    for i in range(len(weight)):\n",
    "        if capacity>=weight[i]: \n",
    "            knapsack_items.append((profit[i],weight[i],1))\n",
    "            total_profit+=profit[i]\n",
    "            capacity-=weight[i]\n",
    "        else:\n",
    "            fraction=capacity/weight[i]\n",
    "            total_profit+=profit[i]*fraction\n",
    "            knapsack_items.append((profit[i], weight[i], fraction))\n",
    "            break\n",
    "            \n",
    "\n",
    "    print(\"\\nKnap Sack Items :\")\n",
    "    for item in knapsack_items: \n",
    "        print(item)\n",
    "    print(\"\\nTotal Profit :\",total_profit)\n",
    "\n",
    "profit=[25,24,15]\n",
    "weight=[18,15,10]\n",
    "capacity=20\n",
    "knapsack(profit,weight,capacity)"
   ]
  },
  {
   "cell_type": "code",
   "execution_count": 22,
   "id": "f3d4c5c4-9920-4a64-a41d-d97065f3291f",
   "metadata": {},
   "outputs": [
    {
     "name": "stdout",
     "output_type": "stream",
     "text": [
      "Max Profit: 31.5\n"
     ]
    }
   ],
   "source": [
    "def knapsack(profit,weight,capacity):\n",
    "    items = sorted(zip(weight, profit),key=lambda x: x[1] / x[0], reverse=True)\n",
    "    total_profit = 0\n",
    "    for w, p in items:\n",
    "        if capacity >= w:\n",
    "            total_profit += p\n",
    "            capacity -= w\n",
    "        else:\n",
    "            fraction = capacity / w\n",
    "            total_profit += p * fraction\n",
    "            break\n",
    "    return total_profit\n",
    "\n",
    "weight = [18,15,10]\n",
    "profit= [25,24,15]\n",
    "capacity = 20\n",
    "\n",
    "max_profit = knapsack(profit,weight,capacity)\n",
    "print(f\"Max Profit: {max_profit}\")"
   ]
  },
  {
   "cell_type": "code",
   "execution_count": null,
   "id": "4651d864-8688-4bd2-a1bd-c521c4e6f990",
   "metadata": {},
   "outputs": [],
   "source": []
  }
 ],
 "metadata": {
  "kernelspec": {
   "display_name": "Python 3 (ipykernel)",
   "language": "python",
   "name": "python3"
  },
  "language_info": {
   "codemirror_mode": {
    "name": "ipython",
    "version": 3
   },
   "file_extension": ".py",
   "mimetype": "text/x-python",
   "name": "python",
   "nbconvert_exporter": "python",
   "pygments_lexer": "ipython3",
   "version": "3.11.1"
  }
 },
 "nbformat": 4,
 "nbformat_minor": 5
}
