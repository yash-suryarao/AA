{
 "cells": [
  {
   "cell_type": "markdown",
   "id": "595a8f76",
   "metadata": {},
   "source": [
    "### Floyd-Warshall Algorithm"
   ]
  },
  {
   "cell_type": "code",
   "execution_count": null,
   "id": "45183139",
   "metadata": {},
   "outputs": [
    {
     "name": "stdout",
     "output_type": "stream",
     "text": [
      "Shortest distances between every pair of vertices:\n",
      "0\t4\t6\t\n",
      "5\t0\t2\t\n",
      "3\t7\t0\t\n"
     ]
    }
   ],
   "source": [
    "# 1. Create a distance matrix dist[i][j]:\n",
    "#    - If there is an edge from vertex i to vertex j, then dist[i][j] = weight(i,j)\n",
    "#    - If i = = j, set dist[i , j] = 0 (distance to itself).\n",
    "#    - If there's no edge, set dist[i , j] = ∞\n",
    "# 2. Iteratively update distance:\n",
    "#    - For every pair of nodes (i, j), check if passing through an intermediate node k shortens the path.\n",
    "#    - Update AK[i , j] = min(Ak-1[i , j],  Ak-1[i , k] + Ak-1[k , j])\n",
    "# 3. After final iteration: Dist[i , j] contains the shortest distance from i to j\n",
    "\n",
    "V = 3\n",
    "INF = float('inf')\n",
    "\n",
    "def floyd_warshall(graph):\n",
    "    dist = [[graph[i][j] for j in range(V)] for i in range(V)]\n",
    "\n",
    "    for k in range(V):\n",
    "        for i in range(V):\n",
    "            for j in range(V):\n",
    "                if dist[i][k] + dist[k][j] < dist[i][j]:\n",
    "                    dist[i][j] = dist[i][k] + dist[k][j]\n",
    "\n",
    "    print(\"Shortest distances between every pair of vertices:\")\n",
    "    for i in range(V):\n",
    "        for j in range(V):\n",
    "            if dist[i][j] == INF:\n",
    "                print(\"INF\", end=\"\\t\")\n",
    "            else:\n",
    "                print(dist[i][j], end=\"\\t\")\n",
    "        print()\n",
    "\n",
    "graph = [\n",
    "    [0, 4, 11],\n",
    "    [6, 0, 2],\n",
    "    [3, INF, 0]\n",
    "]\n",
    "\n",
    "floyd_warshall(graph)\n"
   ]
  }
 ],
 "metadata": {
  "kernelspec": {
   "display_name": "Python 3",
   "language": "python",
   "name": "python3"
  },
  "language_info": {
   "codemirror_mode": {
    "name": "ipython",
    "version": 3
   },
   "file_extension": ".py",
   "mimetype": "text/x-python",
   "name": "python",
   "nbconvert_exporter": "python",
   "pygments_lexer": "ipython3",
   "version": "3.11.1"
  }
 },
 "nbformat": 4,
 "nbformat_minor": 5
}
