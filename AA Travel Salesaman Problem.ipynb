{
 "cells": [
  {
   "cell_type": "markdown",
   "id": "30682ffc-3003-4562-9797-a80006e7c0a1",
   "metadata": {},
   "source": [
    "#### Traveling Salesman Problem"
   ]
  },
  {
   "cell_type": "code",
   "execution_count": null,
   "id": "2830a214-fa91-4924-813d-52e92552ca24",
   "metadata": {},
   "outputs": [
    {
     "name": "stdout",
     "output_type": "stream",
     "text": [
      "The shortest possible route has a cost of: 35\n"
     ]
    }
   ],
   "source": [
    "# 1. Given set of N cities and the cost or distance between each pair of cities\n",
    "# 2. The goal is to find the shortest possible route that:\n",
    "#    - Starts from a given city\n",
    "#    - Visits every city at least once\n",
    "#    - Returns to the starting city\n",
    "# 3. The objective is to minimize the total travel cost\n",
    "\n",
    "# Formula : g(i, S) = min[w(i, j)+g(j, {S-j})]\n",
    "# g(i, S) : The minimum cost to visit all cities\n",
    "# i : The current city\n",
    "# S : The set of remaining cities to visit\n",
    "# j : The next city to visit, choosen from S\n",
    "# w(i,j) : The weight (cost) from city i to city j\n",
    "# g(j, {S-j}) : The recursive call for the remaining cities after visiting j\n",
    "\n",
    "import sys\n",
    "\n",
    "def totalCost(mask, pos, n, cost, dp):\n",
    "    if mask == (1 << n) - 1:\n",
    "        return cost[pos][0]\n",
    "    \n",
    "    if dp[pos][mask] != -1:\n",
    "        return dp[pos][mask]\n",
    "    \n",
    "    ans = sys.maxsize\n",
    "    \n",
    "    for i in range(n):\n",
    "        if (mask & (1 << i)) == 0:\n",
    "            ans = min(ans, cost[pos][i] + totalCost(mask | (1 << i), i, n, cost, dp))\n",
    "    \n",
    "    dp[pos][mask] = ans\n",
    "    return ans\n",
    "\n",
    "def tsp(cost):\n",
    "    n = len(cost)\n",
    "    dp = [[-1] * (1 << n) for _ in range(n)]\n",
    "    return totalCost(1, 0, n, cost, dp)\n",
    "\n",
    "if __name__ == \"__main__\":\n",
    "    cost = [\n",
    "        [0, 10, 15, 20],\n",
    "        [5, 0, 25, 10],\n",
    "        [15, 30, 0, 5],\n",
    "        [15, 10, 20, 0]\n",
    "    ]\n",
    "    result = tsp(cost)\n",
    "    print(f\"The shortest possible route has a cost of: {result}\")\n"
   ]
  }
 ],
 "metadata": {
  "kernelspec": {
   "display_name": "Python 3 (ipykernel)",
   "language": "python",
   "name": "python3"
  },
  "language_info": {
   "codemirror_mode": {
    "name": "ipython",
    "version": 3
   },
   "file_extension": ".py",
   "mimetype": "text/x-python",
   "name": "python",
   "nbconvert_exporter": "python",
   "pygments_lexer": "ipython3",
   "version": "3.11.1"
  }
 },
 "nbformat": 4,
 "nbformat_minor": 5
}
