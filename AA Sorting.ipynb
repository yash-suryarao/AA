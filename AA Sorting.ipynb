{
 "cells": [
  {
   "cell_type": "markdown",
   "id": "e9649f7d-1d90-4e1a-8a0a-24067da3f079",
   "metadata": {},
   "source": [
    "#### Merge Sort"
   ]
  },
  {
   "cell_type": "code",
   "execution_count": 2,
   "id": "36d16dfd-251a-468a-a58c-7579256e89f4",
   "metadata": {},
   "outputs": [
    {
     "name": "stdout",
     "output_type": "stream",
     "text": [
      "Sorted array: [1, 2, 5, 10, 12, 20]\n"
     ]
    }
   ],
   "source": [
    "# Algorithm :\n",
    "# 1. Check if n <= 1, array has 1 or fewer elements: return as it is already sorted\n",
    "# 2. Find the middle index mid=(low + high)//2\n",
    "# 3. Divide the array in two halves:\n",
    "#    - Left half : arr[low to mid]\n",
    "#    - Right half : arr[mid+1 to high]\n",
    "# 4. Recursively apply merge sort on each half\n",
    "\n",
    "def merge_sort(arr):\n",
    "    if len(arr) <= 1:\n",
    "        return arr\n",
    "    mid = len(arr) // 2\n",
    "    return merge(merge_sort(arr[:mid]), merge_sort(arr[mid:]))\n",
    "\n",
    "def merge(left, right):\n",
    "    sorted_array, i, j = [], 0, 0\n",
    "    while i < len(left) and j < len(right):\n",
    "        sorted_array.append(left[i] if left[i] < right[j] else right[j])\n",
    "        i, j = (i + 1, j) if left[i] < right[j] else (i, j + 1)\n",
    "    return sorted_array + left[i:] + right[j:]\n",
    "\n",
    "arr=[5,10,1,12,20,2]\n",
    "print(\"Sorted array:\", merge_sort(arr))"
   ]
  },
  {
   "cell_type": "markdown",
   "id": "d23ed4f0-cd70-41d5-8141-cbc40a2e4cad",
   "metadata": {},
   "source": [
    "#### Quick Sort"
   ]
  },
  {
   "cell_type": "code",
   "execution_count": 36,
   "id": "8826472f-9c69-4b46-90b3-fa02fedd6f49",
   "metadata": {},
   "outputs": [
    {
     "name": "stdout",
     "output_type": "stream",
     "text": [
      "Sorted array: [1, 2, 5, 10, 20, 21]\n"
     ]
    }
   ],
   "source": [
    "# Algorithm :\n",
    "# 1. Consider any element as the pivot\n",
    "# 2. Initialize i to low index and j to high index\n",
    "# 3. Repeat the following until i<j:\n",
    "#    - Keep on incrementing i while (a[i] <= pivot)\n",
    "#    - Keep on decrementing j while (a[j] > pivot)\n",
    "#    - if i<j then swap (a[i] with a[j])\n",
    "# 4. if i>j then swap (a[j] with pivot)\n",
    "\n",
    "def partition(arr, low, high):\n",
    "    pivot = arr[low]\n",
    "    i = low + 1\n",
    "    j = high\n",
    "    \n",
    "    while True:\n",
    "        while i <= j and arr[i] <= pivot:\n",
    "            i += 1\n",
    "        while j >= i and arr[j] > pivot:\n",
    "            j -= 1\n",
    "        if i < j:\n",
    "            arr[i], arr[j] = arr[j], arr[i]\n",
    "        else:\n",
    "            break\n",
    "    \n",
    "    arr[low], arr[j] = arr[j], arr[low]\n",
    "    return j\n",
    "\n",
    "def quick_sort(arr, low, high):\n",
    "    if low < high:\n",
    "        pivot_index = partition(arr, low, high)\n",
    "        quick_sort(arr, low, pivot_index - 1)\n",
    "        quick_sort(arr, pivot_index + 1, high)\n",
    "\n",
    "arr = [10, 1, 5, 21, 20, 2]\n",
    "low = 0\n",
    "high = len(arr) - 1\n",
    "quick_sort(arr, low, high)\n",
    "print(\"Sorted array:\", arr)\n"
   ]
  },
  {
   "cell_type": "markdown",
   "id": "a05f1848-63d6-4826-8562-da2ddd629e43",
   "metadata": {},
   "source": [
    "#### Insertion Sort"
   ]
  },
  {
   "cell_type": "code",
   "execution_count": 2,
   "id": "19689ec6-b933-4f87-8b6b-3fdbbb7c7267",
   "metadata": {},
   "outputs": [
    {
     "name": "stdout",
     "output_type": "stream",
     "text": [
      "Sorted array: [1, 2, 5, 10, 20, 21]\n"
     ]
    }
   ],
   "source": [
    "# Algorithm :\n",
    "# 1. Start from index i=1\n",
    "# 2. Compare the current element (arr[i]=key) with element in the sorted part.\n",
    "# 3. Shift all elements in the sorted part that are greater than arr[i] to the right\n",
    "# 4. Insert arr[i] in its correct position\n",
    "# 5. Repeat untill the entire array is sorted\n",
    "\n",
    "def insertion_sort(arr):\n",
    "    for i in range(1, len(arr)):\n",
    "        key = arr[i]\n",
    "        j = i - 1\n",
    "\n",
    "        while j >= 0 and arr[j] > key:\n",
    "            arr[j + 1] = arr[j]\n",
    "            j = j - 1\n",
    "        arr[j + 1] = key\n",
    "\n",
    "arr = [10, 1, 5, 21, 20, 2]\n",
    "insertion_sort(arr)\n",
    "print(\"Sorted array:\", arr)\n"
   ]
  },
  {
   "cell_type": "markdown",
   "id": "dbf2950f-0d89-4ea3-a947-dcbae11df43a",
   "metadata": {},
   "source": [
    "#### Binary Search"
   ]
  },
  {
   "cell_type": "code",
   "execution_count": 35,
   "id": "77475ddc-28f6-4361-ad43-aaa5239fcc05",
   "metadata": {},
   "outputs": [
    {
     "name": "stdout",
     "output_type": "stream",
     "text": [
      "Element found at index: 2\n"
     ]
    }
   ],
   "source": [
    "def binary_search(arr, target, low, high):\n",
    "    if low > high:\n",
    "        return -1\n",
    "    \n",
    "    mid = (low+high)//2\n",
    "\n",
    "    if arr[mid] == target:\n",
    "        return mid\n",
    "    elif arr[mid] < target:\n",
    "        return binary_search(arr, target, mid+1, high)\n",
    "    else:\n",
    "        return binary_search(arr, target, low, mid-1)\n",
    "\n",
    "arr = [1, 10 , 11, 21, 30]\n",
    "target = 11\n",
    "low = 0\n",
    "high = len(arr) - 1\n",
    "\n",
    "index = binary_search(arr, target, low, high)\n",
    "\n",
    "if index != -1:\n",
    "    print(\"Element found at index:\", index)\n",
    "else:\n",
    "    print(\"Element not found\")"
   ]
  },
  {
   "cell_type": "code",
   "execution_count": 37,
   "id": "7241d581-1426-438c-96e9-a7e63330b566",
   "metadata": {},
   "outputs": [
    {
     "name": "stdin",
     "output_type": "stream",
     "text": [
      "Enter length of Array:  5\n",
      "Enter value: 2\n",
      "Enter value: 3\n",
      "Enter value: 5\n",
      "Enter value: 8\n",
      "Enter value: 1\n"
     ]
    },
    {
     "name": "stdout",
     "output_type": "stream",
     "text": [
      "\n",
      "Array :  [1, 2, 3, 5, 8]\n"
     ]
    },
    {
     "name": "stdin",
     "output_type": "stream",
     "text": [
      "\n",
      "Enter value to Search : 5\n"
     ]
    },
    {
     "name": "stdout",
     "output_type": "stream",
     "text": [
      "\n",
      "Target is at 4 Position.\n"
     ]
    }
   ],
   "source": [
    "# BINARY SEARCH INPUT\n",
    "\n",
    "def binary_search(arr,target,low,high):\n",
    "    if low>high:\n",
    "        return -1\n",
    "\n",
    "    mid=(low+high)//2\n",
    "    if arr[mid]==target:\n",
    "        return mid \n",
    "    elif arr[mid]<target: \n",
    "        return binary_search(arr,target,mid+1,high)\n",
    "    else:\n",
    "        return binary_search(arr,target,low,mid-1)\n",
    "\n",
    "arr=[]\n",
    "\n",
    "n =int(input(\"Enter length of Array: \"))\n",
    "for i in range(n):\n",
    "    value=int(input(\"Enter value:\"))\n",
    "    arr.append(value)\n",
    "\n",
    "arr.sort()\n",
    "print(\"\\nArray : \",arr)\n",
    "\n",
    "target=int(input(\"\\nEnter value to Search :\"))\n",
    "\n",
    "pos=binary_search(arr,target,0,n-1)\n",
    "\n",
    "if pos<0: \n",
    "    print(\"\\nTarget not found.\")\n",
    "else:\n",
    "    print(f\"\\nTarget is at {pos+1} Position.\")"
   ]
  }
 ],
 "metadata": {
  "kernelspec": {
   "display_name": "Python 3 (ipykernel)",
   "language": "python",
   "name": "python3"
  },
  "language_info": {
   "codemirror_mode": {
    "name": "ipython",
    "version": 3
   },
   "file_extension": ".py",
   "mimetype": "text/x-python",
   "name": "python",
   "nbconvert_exporter": "python",
   "pygments_lexer": "ipython3",
   "version": "3.11.1"
  }
 },
 "nbformat": 4,
 "nbformat_minor": 5
}
