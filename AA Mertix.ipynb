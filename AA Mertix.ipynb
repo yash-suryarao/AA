{
 "cells": [
  {
   "cell_type": "markdown",
   "id": "d874a7e1-4144-440c-a148-a717b13b67ef",
   "metadata": {},
   "source": [
    "### Matrix Multiplication"
   ]
  },
  {
   "cell_type": "code",
   "execution_count": 2,
   "id": "98202df4-5973-4f23-85d6-7df0cb516606",
   "metadata": {},
   "outputs": [
    {
     "name": "stdout",
     "output_type": "stream",
     "text": [
      "A :\n",
      "[1, 2]\n",
      "[3, 4]\n",
      "\n",
      "B :\n",
      "[5, 6]\n",
      "[7, 8]\n",
      "\n",
      "Multiplication :\n",
      "[19, 22]\n",
      "[43, 50]\n"
     ]
    }
   ],
   "source": [
    "a=[[1,2],\n",
    "    [3,4]]\n",
    "\n",
    "b=[[5,6], \n",
    "    [7,8]]\n",
    "\n",
    "row_a=len(a)\n",
    "col_a=len(a[0])\n",
    "row_a,col_a\n",
    "\n",
    "row_b=len(b)\n",
    "col_b=len(b[0])\n",
    "row_b,col_b\n",
    "\n",
    "c=[]\n",
    "\n",
    "for i in range(row_a):\n",
    "    c.append([0]*col_b)\n",
    "\n",
    "for i in range(row_a):\n",
    "    for j in range(col_b): \n",
    "        for k in range(col_a): \n",
    "            c[i][j] += a[i][k] * b[k][j]\n",
    "\n",
    "print(\"A :\")\n",
    "for i in a:\n",
    "    print(i)\n",
    "\n",
    "print(\"\\nB :\")\n",
    "for i in b:\n",
    "    print(i)\n",
    "\n",
    "print(\"\\nMultiplication :\")\n",
    "for i in c:\n",
    "    print(i)"
   ]
  }
 ],
 "metadata": {
  "kernelspec": {
   "display_name": "Python 3 (ipykernel)",
   "language": "python",
   "name": "python3"
  },
  "language_info": {
   "codemirror_mode": {
    "name": "ipython",
    "version": 3
   },
   "file_extension": ".py",
   "mimetype": "text/x-python",
   "name": "python",
   "nbconvert_exporter": "python",
   "pygments_lexer": "ipython3",
   "version": "3.11.1"
  }
 },
 "nbformat": 4,
 "nbformat_minor": 5
}
