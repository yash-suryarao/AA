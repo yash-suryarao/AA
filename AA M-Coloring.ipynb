{
 "cells": [
  {
   "cell_type": "markdown",
   "id": "af47e749-1bb0-4fe4-9f56-bed00f1d0d5e",
   "metadata": {},
   "source": [
    "#### M-Coloring"
   ]
  },
  {
   "cell_type": "code",
   "execution_count": null,
   "id": "16a9721b-c3f6-4805-a4f8-1c2e4c62ab3d",
   "metadata": {},
   "outputs": [],
   "source": [
    "# Objective: The objective of this lab assignment is to understand graph coloring and backtracking by implementing a Python program to solve the M-Coloring problem.\n",
    "# Problem Statement: Given an undirected graph and an integer M, determine if the graph can be colored with at most M colors such that no two adjacent vertices share the same color. If a solution exists, print the color assignment; otherwise, indicate that no solution is possible.\n",
    "# Algorithm : \n",
    "# 1. Take input : \n",
    "#    - Adjacency matrix of the 'graph'\n",
    "#    - Number of colors 'm'\n",
    "#    - Number of vertices  'n'\n",
    "# 2. Backtracking :\n",
    "#    - Try coloring the current vertex with color 1 to m\n",
    "#    - After assigning a color. chec its validity\n",
    "#    - Then move to the next vertex (v + 1), If no color works, backtrack untill all colors assigned."
   ]
  },
  {
   "cell_type": "code",
   "execution_count": 1,
   "id": "97eb4307-558e-4706-9898-9ca0a855dd33",
   "metadata": {},
   "outputs": [
    {
     "name": "stdout",
     "output_type": "stream",
     "text": [
      "Enter number of vertices:  4\n",
      "Enter number of edges:  4\n",
      "Enter number of colors:  3\n"
     ]
    },
    {
     "name": "stdout",
     "output_type": "stream",
     "text": [
      "Enter edges (u v) where u and v are vertex indices (0-based):\n"
     ]
    },
    {
     "name": "stdout",
     "output_type": "stream",
     "text": [
      " 0 1\n",
      " 0 2\n",
      " 1 2\n",
      " 1 3\n"
     ]
    },
    {
     "name": "stdout",
     "output_type": "stream",
     "text": [
      "Color assignment: [1, 2, 3, 1]\n"
     ]
    }
   ],
   "source": [
    "# Using Backtracking\n",
    "\n",
    "def is_safe(graph, color, v, c):\n",
    "    for i in range(len(graph)):\n",
    "        if graph[v][i] == 1 and color[i] == c:\n",
    "            return False\n",
    "    return True\n",
    "\n",
    "def graph_coloring_util(graph, m, color, v):\n",
    "    if v == len(graph):\n",
    "        return True\n",
    "    \n",
    "    for c in range(1, m + 1):\n",
    "        if is_safe(graph, color, v, c):\n",
    "            color[v] = c\n",
    "            if graph_coloring_util(graph, m, color, v + 1):\n",
    "                return True\n",
    "            color[v] = 0\n",
    "    return False\n",
    "\n",
    "def graph_coloring(graph, m):\n",
    "    color = [0] * len(graph)\n",
    "    if not graph_coloring_util(graph, m, color, 0):\n",
    "        print(\"No solution exists\")\n",
    "    else:\n",
    "        print(\"Color assignment:\", color)\n",
    "\n",
    "num_vertices = int(input(\"Enter number of vertices: \"))\n",
    "num_edges = int(input(\"Enter number of edges: \"))\n",
    "m = int(input(\"Enter number of colors: \"))\n",
    "\n",
    "graph = [[0] * num_vertices for _ in range(num_vertices)]\n",
    "\n",
    "print(\"Enter edges (u v) where u and v are vertex indices (0-based):\")\n",
    "for _ in range(num_edges):\n",
    "    u, v = map(int, input().split())\n",
    "    graph[u][v] = 1\n",
    "    graph[v][u] = 1\n",
    "\n",
    "graph_coloring(graph, m)\n"
   ]
  },
  {
   "cell_type": "code",
   "execution_count": 3,
   "id": "7c5d36e2-2008-4b06-8906-4481089bf78a",
   "metadata": {},
   "outputs": [
    {
     "name": "stdout",
     "output_type": "stream",
     "text": [
      "\n",
      "Colorings:\n",
      "('B', 'R', 'G')\n",
      "('G', 'R', 'B')\n",
      "('R', 'B', 'G')\n",
      "('G', 'B', 'R')\n",
      "('B', 'G', 'R')\n",
      "('R', 'G', 'B')\n"
     ]
    }
   ],
   "source": [
    "# M-Colouring\n",
    "\n",
    "def is_safe(node, color, graph, assigned_colors):\n",
    "    for neighbor in graph[node]:\n",
    "        if assigned_colors[neighbor] == color:\n",
    "            return False\n",
    "    return True\n",
    "\n",
    "def graph_coloring_util(graph, colors, assigned_colors, node, N, solutions):\n",
    "    if node == N: \n",
    "        solutions.append(tuple(assigned_colors[:]))  \n",
    "        return\n",
    "\n",
    "    for color in colors:\n",
    "        if is_safe(node, color, graph, assigned_colors):\n",
    "            assigned_colors[node] = color  \n",
    "            graph_coloring_util(graph, colors, assigned_colors, node + 1, N, solutions)  \n",
    "            assigned_colors[node] = None \n",
    "\n",
    "def create_graph(N):\n",
    "    graph = {i: [] for i in range(N)}\n",
    "  \n",
    "    graph[0] = [1, 2]  \n",
    "    graph[1] = [0, 2]  \n",
    "    graph[2] = [0, 1]   \n",
    "    return graph\n",
    "\n",
    "def graph_coloring(N):\n",
    "    colors = [\"R\", \"G\", \"B\"]  \n",
    "    graph = create_graph(N)  \n",
    "    assigned_colors = [None] * N \n",
    "    solutions = [] \n",
    "\n",
    "    graph_coloring_util(graph, colors, assigned_colors, 0, N, solutions)\n",
    "\n",
    " \n",
    "    unique_solutions = list(set(solutions))[:6]\n",
    "\n",
    "    print(\"\\nColorings:\")\n",
    "    for sol in unique_solutions:\n",
    "        print(sol)\n",
    "\n",
    "graph_coloring(3)\n",
    "\n"
   ]
  }
 ],
 "metadata": {
  "kernelspec": {
   "display_name": "Python 3 (ipykernel)",
   "language": "python",
   "name": "python3"
  },
  "language_info": {
   "codemirror_mode": {
    "name": "ipython",
    "version": 3
   },
   "file_extension": ".py",
   "mimetype": "text/x-python",
   "name": "python",
   "nbconvert_exporter": "python",
   "pygments_lexer": "ipython3",
   "version": "3.11.1"
  }
 },
 "nbformat": 4,
 "nbformat_minor": 5
}
