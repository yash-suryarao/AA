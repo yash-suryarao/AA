{
 "cells": [
  {
   "cell_type": "code",
   "execution_count": 3,
   "id": "a295b963",
   "metadata": {},
   "outputs": [
    {
     "name": "stdout",
     "output_type": "stream",
     "text": [
      "The minimum cost of Optimal BST is: 142\n"
     ]
    }
   ],
   "source": [
    "# Algorithm:\n",
    "# 1. Create cost cost[i][j] and weight w[i][j] matrices\n",
    "# 2. When there is only one key cost[i][i] = P[i]+Q[i]+Q[i+1]\n",
    "# 3. Fill the DP table by cinsidering all subarray of length 1 to n.\n",
    "# 4. The minimum cast for the entire array is stored in cost[0][n-1]\n",
    "\n",
    "\n",
    "def optimal_bst(keys):\n",
    "    n = len(freq)\n",
    "    cost = [[0]*n for _ in range(n)]\n",
    "    for i in range(n):\n",
    "        cost[i][i] = freq[i]\n",
    "\n",
    "    for length in range(2, n + 1):\n",
    "        for i in range(n - length + 1):\n",
    "            j = i + length - 1\n",
    "            cost[i][j] = float('inf')\n",
    "            total_freq = sum(freq[i:j + 1])\n",
    "\n",
    "            for r in range(i, j + 1):\n",
    "                cost_left = cost[i][r - 1] if r > i else 0\n",
    "                cost_right = cost[r + 1][j] if r < j else 0\n",
    "                total_cost = cost_left + cost_right + total_freq\n",
    "\n",
    "                if total_cost < cost[i][j]:\n",
    "                    cost[i][j] = total_cost\n",
    "\n",
    "    return cost[0][n - 1]\n",
    "\n",
    "\n",
    "keys = [10, 12, 20]\n",
    "freq = [34, 8, 50]\n",
    "n = len(keys)\n",
    "\n",
    "min_cost = optimal_bst(keys)\n",
    "print(\"The minimum cost of Optimal BST is:\", min_cost)\n"
   ]
  }
 ],
 "metadata": {
  "kernelspec": {
   "display_name": "Python 3",
   "language": "python",
   "name": "python3"
  },
  "language_info": {
   "codemirror_mode": {
    "name": "ipython",
    "version": 3
   },
   "file_extension": ".py",
   "mimetype": "text/x-python",
   "name": "python",
   "nbconvert_exporter": "python",
   "pygments_lexer": "ipython3",
   "version": "3.11.1"
  }
 },
 "nbformat": 4,
 "nbformat_minor": 5
}
